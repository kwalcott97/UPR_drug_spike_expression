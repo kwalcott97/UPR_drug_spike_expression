{
 "cells": [
  {
   "cell_type": "code",
   "execution_count": 1,
   "id": "500372b9",
   "metadata": {},
   "outputs": [
    {
     "name": "stdout",
     "output_type": "stream",
     "text": [
      "/Users/keith_tetrad\n"
     ]
    }
   ],
   "source": [
    "cd"
   ]
  },
  {
   "cell_type": "code",
   "execution_count": 2,
   "id": "3e4aa8c4",
   "metadata": {},
   "outputs": [],
   "source": [
    "import numpy as np\n",
    "import pandas as pd\n",
    "from matplotlib import pyplot as plt\n",
    "import seaborn as sns\n",
    "import FlowCal\n",
    "import flowutils\n",
    "import os\n",
    "import matplotlib.ticker as mtick\n",
    "from matplotlib.patches import Patch\n",
    "from scipy.stats import mannwhitneyu"
   ]
  },
  {
   "cell_type": "code",
   "execution_count": 3,
   "id": "4a923978",
   "metadata": {},
   "outputs": [],
   "source": [
    "# Logicle transform (linear near 0, log for the rest)\n",
    "\n",
    "def logicle_transform(df, column_name):\n",
    "    transformed_array = np.array(df[column_name]) \n",
    "    transformed_array = flowutils.transforms.logicle(transformed_array, None)\n",
    "    df[column_name] = transformed_array\n",
    "    return df"
   ]
  },
  {
   "cell_type": "code",
   "execution_count": 4,
   "id": "9a6d25a1",
   "metadata": {},
   "outputs": [],
   "source": [
    "# def process_fcs_file(filepath):\n",
    "#     # Ensure the file exists\n",
    "#     if not os.path.exists(filepath):\n",
    "#         print(\"File not found:\", filepath)\n",
    "#         return None\n",
    "\n",
    "#     # Read and transform the FCS data\n",
    "#     fcs_data = FlowCal.io.FCSData(filepath)\n",
    "#     fcs_data = FlowCal.transform.to_rfi(fcs_data)\n",
    "\n",
    "#     # Extract the sample_name from the filename\n",
    "#     sample_name = \"_\".join(os.path.basename(filepath).split(\"_\")[1:3])\n",
    "\n",
    "#     # Add the identifier\n",
    "#     identifier = np.full(shape=(fcs_data.shape[0], 1), fill_value=sample_name)\n",
    "#     combined_data = np.hstack((fcs_data, identifier))\n",
    "\n",
    "#     # Convert to DataFrame\n",
    "#     combined_data_df = pd.DataFrame(combined_data, columns=list(fcs_data.channels) + [\"sample_name\"])\n",
    "#     combined_data_df.iloc[:, :-1] = combined_data_df.iloc[:, :-1].apply(pd.to_numeric)\n",
    "\n",
    "#     # Apply logicle transformation\n",
    "#     combined_data_df = logicle_transform(combined_data_df, \"530_30 Blue B-A\")\n",
    "#     combined_data_df = logicle_transform(combined_data_df, \"610_20 YG D-A\")\n",
    "\n",
    "#     return combined_data_df\n",
    "\n",
    "# def add_files_to_dict(directory):\n",
    "#     files_dict = {}\n",
    "#     for file in os.listdir(directory):\n",
    "#         if file.endswith(\".fcs\"):  # Checking if the file is an FCS file\n",
    "#             filepath = os.path.join(directory, file)\n",
    "#             sample_name = \"_\".join(file.split(\"_\")[1:3])  # Extract 'sample_name' from filename\n",
    "#             processed_file = process_fcs_file(filepath)\n",
    "\n",
    "#             # Check if the processed file has more than 5000 rows\n",
    "#             if processed_file.shape[0] > 5000:\n",
    "#                 files_dict[sample_name] = processed_file\n",
    "\n",
    "#     return files_dict\n",
    "\n",
    "# directory = 'UPR_drug_spike_expression/data/20231220 FlowJo'\n",
    "# files_dictionary = add_files_to_dict(directory)\n",
    "# files_dictionary = dict(sorted(files_dictionary.items(), key=lambda item: int(item[0].split('_')[1])))\n",
    "# # Now files_dictionary contains only the processed data with more than 5000 rows, with codes as keys\n",
    "\n",
    "\n",
    "# MetaData = pd.read_csv('UPR_drug_spike_expression/data/20231214_metadata.csv')\n",
    "\n",
    "# combined_data_dict = {}\n",
    "\n",
    "# for key, df in files_dictionary.items():\n",
    "#     combined_data = pd.merge(df, MetaData, on=\"sample_name\")\n",
    "#     combined_data = combined_data.rename(columns={\"530_30 Blue B-A\": \"FITC (a.u.)\"})\n",
    "#     combined_data = combined_data.rename(columns={\"610_20 YG D-A\": \"mCherry (a.u.)\"})\n",
    "#     combined_data['Normalized (a.u.)'] = combined_data['FITC (a.u.)']-combined_data['mCherry (a.u.)']\n",
    "#     combined_data_dict[key] = combined_data\n",
    "       "
   ]
  },
  {
   "cell_type": "code",
   "execution_count": 5,
   "id": "75f13821",
   "metadata": {},
   "outputs": [],
   "source": [
    "# # Initialize an empty DataFrame to store aggregated statistics for each sample.\n",
    "# # The DataFrame will include median and standard error of the mean (SEM) for mCherry and FITC signals.\n",
    "# summary_df = pd.DataFrame(columns=[\n",
    "#     'sample_name', 'cell_line', 'drug', 'secondary',\n",
    "#     'median_mCherry', 'sem_mCherry', 'median_FITC', 'sem_FITC'\n",
    "# ])\n",
    "\n",
    "# # Process and aggregate data from each sample DataFrame stored in combined_data_dict.\n",
    "# for df in combined_data_dict.values():\n",
    "#     # Calculate median values and SEM for mCherry and FITC signals.\n",
    "#     df['median_mCherry'] = df['mCherry (a.u.)'].median()\n",
    "#     df['sem_mCherry'] = df['mCherry (a.u.)'].sem()  # SEM for mCherry\n",
    "#     df['median_FITC'] = df['FITC (a.u.)'].median()\n",
    "#     df['sem_FITC'] = df['FITC (a.u.)'].sem()  # SEM for FITC\n",
    "\n",
    "#     # Select relevant columns and remove duplicate entries.\n",
    "#     selected_columns = df[['sample_name', 'cell_line', 'drug', 'secondary', \n",
    "#                            'median_mCherry', 'sem_mCherry', 'median_FITC', 'sem_FITC']].drop_duplicates()\n",
    "\n",
    "#     # Append these columns to the summary DataFrame for a comprehensive summary.\n",
    "#     summary_df = pd.concat([summary_df, selected_columns], ignore_index=True)\n",
    "\n",
    "# # Filter out samples marked as 'unlabel' in the 'secondary' column.\n",
    "# summary_df = summary_df[summary_df['secondary'] != 'unlabel']\n",
    "    \n",
    "# # Function to calculate a weighted mean for aggregating data points.\n",
    "# # This function helps in finding the average when data points have associated weights (importance or reliability).\n",
    "# def weighted_mean(values, weights):\n",
    "#     return np.average(values, weights=weights)\n",
    "\n",
    "# # Function to calculate a combined standard deviation across different groups of data.\n",
    "# # This function is useful for finding an overall measure of variability when you have data from multiple groups.\n",
    "# def combined_std(stds, means, weights):\n",
    "#     weighted_variances = [w**2 * v**2 for w, v in zip(weights, stds)]  # Calculate weighted variance for each group\n",
    "#     sum_weighted_variances = np.sum(weighted_variances)  # Sum up all the weighted variances\n",
    "#     return np.sqrt(sum_weighted_variances / np.sum(weights))  # The square root gives the combined standard deviation\n",
    "\n",
    "# # Group the summary DataFrame by 'cell_line', 'drug', and 'secondary' for aggregation.\n",
    "# grouped = summary_df.groupby(['cell_line', 'drug', 'secondary'])\n",
    "\n",
    "# # Calculate the weighted mean and combined standard deviation for each group.\n",
    "# # This creates a compressed DataFrame with aggregated statistics for each group.\n",
    "# compressed_df = grouped.apply(lambda x: pd.Series({\n",
    "#     'median_mCherry': weighted_mean(x['median_mCherry'], 1/x['sem_mCherry']),\n",
    "#     'sem_mCherry': combined_std(x['sem_mCherry'], x['median_mCherry'], 1/x['sem_mCherry']),\n",
    "#     'median_FITC': weighted_mean(x['median_FITC'], 1/x['sem_FITC']),\n",
    "#     'sem_FITC': combined_std(x['sem_FITC'], x['median_FITC'], 1/x['sem_FITC'])\n",
    "# })).reset_index()\n",
    "\n",
    "# # Function to normalize FITC to mCherry ratios to a control drug.\n",
    "# # This normalization is crucial for comparing results across different treatments or conditions.\n",
    "# def normalize_to_control(df, control_drug='DMSO'):\n",
    "#     # Calculate the ratio of FITC to mCherry for each sample and its error.\n",
    "#     df['FITC_mCherry_ratio'] = df['median_FITC'] / df['median_mCherry']\n",
    "#     df['error_ratio'] = df['FITC_mCherry_ratio'] * np.sqrt(\n",
    "#         (df['sem_FITC'] / df['median_FITC'])**2 + \n",
    "#         (df['sem_mCherry'] / df['median_mCherry'])**2\n",
    "#     )\n",
    "\n",
    "#     # Extract control ratios for each cell line to use in normalization.\n",
    "#     control_ratios = df[df['drug'] == control_drug][['cell_line', 'FITC_mCherry_ratio', 'error_ratio']]\n",
    "\n",
    "#     # Merge the control data with the main DataFrame for direct comparison.\n",
    "#     normalized_df = df.merge(control_ratios, \n",
    "#                              on='cell_line', \n",
    "#                              suffixes=('', '_control'))\n",
    "\n",
    "#     # Calculate the normalized ratio to control and its associated error.\n",
    "#     normalized_df['normalized_to_control'] = normalized_df['FITC_mCherry_ratio'] / normalized_df['FITC_mCherry_ratio_control']\n",
    "#     normalized_df['error_normalized_to_control'] = normalized_df['normalized_to_control'] * np.sqrt(\n",
    "#         (normalized_df['error_ratio'] / normalized_df['FITC_mCherry_ratio'])**2 + \n",
    "#         (normalized_df['error_ratio_control'] / normalized_df['FITC_mCherry_ratio_control'])**2\n",
    "#     )\n",
    "\n",
    "#     return normalized_df\n",
    "\n",
    "# # Apply the normalization function to the aggregated data.\n",
    "# normalized_data = normalize_to_control(compressed_df, control_drug='DMSO')\n"
   ]
  },
  {
   "cell_type": "code",
   "execution_count": 6,
   "id": "410f1e47",
   "metadata": {
    "scrolled": false
   },
   "outputs": [],
   "source": [
    "# def plot_kde_fitc_by_drug_secondary(data_dict, cell_line_label,antibody):\n",
    "#     plt.figure(figsize=(15, 10))\n",
    "\n",
    "#     # Define a color palette for the drugs\n",
    "#     drug_colors = {'DMSO': 'blue', '4u8c': 'green', 'C7': 'red', 'Both': 'purple'}\n",
    "\n",
    "#     for key, df in data_dict.items():\n",
    "#         # Filter for 'cell_line' label\n",
    "#         filtered_df = df[df['cell_line'] == cell_line_label]\n",
    "\n",
    "#         if not filtered_df.empty:\n",
    "#             for drug in drug_colors.keys():\n",
    "#                 drug_df = filtered_df[filtered_df['drug'] == drug]\n",
    "#                 for secondary_label in drug_df['secondary'].unique():\n",
    "#                     sec_df = drug_df[drug_df['secondary'] == secondary_label]\n",
    "#                     if not sec_df.empty:\n",
    "#                         label = f'{key} - {drug} - {secondary_label}'\n",
    "#                         linestyle = '--' if secondary_label == 'unlabel' else '-'\n",
    "#                         sns.kdeplot(data=sec_df, x=antibody, label=label, \n",
    "#                                     fill=False, color=drug_colors[drug], linestyle=linestyle)\n",
    "                        \n",
    "#     plt.xlabel('FITC/mCherry (a.u.)')\n",
    "#     plt.ylabel('Density')\n",
    "#     plt.title('FITC Signal Density by Drug and Secondary Label for Cell Line {}'.format(cell_line_label))\n",
    "#     plt.legend(title='Dataset - Drug - Secondary')\n",
    "#     plt.tight_layout()\n",
    "    \n",
    "#     #plt.savefig('flow_results_histo.png', dpi=300)\n",
    "\n",
    "# plot_kde_fitc_by_drug_secondary(combined_data_dict,'pRH106','Normalized (a.u.)')\n"
   ]
  },
  {
   "cell_type": "code",
   "execution_count": 7,
   "id": "35448cf8",
   "metadata": {},
   "outputs": [],
   "source": [
    "# #adds a median line\n",
    "\n",
    "# def plot_kde_fitc_by_drug_secondary(data_dict, cell_line_label, antibody):\n",
    "#     plt.figure(figsize=(15, 7))\n",
    "\n",
    "#     # Define a color palette for the drugs\n",
    "#     drug_colors = {'DMSO': 'blue', '4u8c': 'green', 'C7': 'red', 'Both': 'purple'}\n",
    "\n",
    "#     for key, df in data_dict.items():\n",
    "#         # Filter for 'cell_line' label\n",
    "#         filtered_df = df[df['cell_line'] == cell_line_label]\n",
    "\n",
    "#         if not filtered_df.empty:\n",
    "#             for drug in drug_colors.keys():\n",
    "#                 drug_df = filtered_df[filtered_df['drug'] == drug]\n",
    "#                 for secondary_label in drug_df['secondary'].unique():\n",
    "#                     sec_df = drug_df[drug_df['secondary'] == secondary_label]\n",
    "#                     if not sec_df.empty:\n",
    "#                         label = f'{key} - {drug} - {secondary_label}'\n",
    "#                         linestyle = '--' if secondary_label == 'unlabel' else '-'\n",
    "                        \n",
    "#                         # Plot the KDE\n",
    "#                         sns_kde = sns.kdeplot(data=sec_df, x=antibody, label=label, \n",
    "#                                               fill=False, color=drug_colors[drug], linestyle=linestyle)\n",
    "\n",
    "#                         # Calculate and plot the median line up to the KDE curve\n",
    "#                         median_value = sec_df[antibody].median()\n",
    "#                         kde_values = sns_kde.get_lines()[-1].get_data()\n",
    "#                         kde_x, kde_y = kde_values\n",
    "#                         median_density = np.interp(median_value, kde_x, kde_y)\n",
    "#                         plt.plot([median_value, median_value], [0, median_density], color=drug_colors[drug], linestyle=linestyle, alpha=0.7)\n",
    "\n",
    "#     plt.xlabel('FITC (a.u.)')\n",
    "#     #plt.xlim(-0.1,1)\n",
    "#     plt.ylabel('Density')\n",
    "#     plt.title('FITC Signal Density by Drug and Secondary Label for Cell Line {}'.format(cell_line_label))\n",
    "#     plt.legend(title='Dataset - Drug - Secondary')\n",
    "#     plt.tight_layout()\n",
    "    \n",
    "#     # Uncomment to save the figure\n",
    "#     plt.savefig('flow_results_histo_median.png', dpi=300)\n",
    "\n",
    "# # Example usage\n",
    "# plot_kde_fitc_by_drug_secondary(combined_data_dict, 'pRH112_DD', 'FITC (a.u.)')\n"
   ]
  },
  {
   "cell_type": "code",
   "execution_count": 8,
   "id": "b3747e90",
   "metadata": {},
   "outputs": [],
   "source": [
    "# def normalize_FITC_to_DMSO_control(df, control_drug='DMSO'):\n",
    "#     # Extract control median FITC values for each cell line to use in normalization.\n",
    "#     control_medians = df[df['drug'] == control_drug][['cell_line', 'median_FITC', 'sem_FITC']].rename(columns={'median_FITC': 'median_FITC_control', 'sem_FITC': 'sem_FITC_control'})\n",
    "\n",
    "#     # Merge the control data with the main DataFrame for direct comparison.\n",
    "#     normalized_df = df.merge(control_medians, on='cell_line')\n",
    "\n",
    "#     # Calculate the normalized FITC value to control and its associated error.\n",
    "#     normalized_df['FITC_normalized_to_control'] = normalized_df['median_FITC'] / normalized_df['median_FITC_control']\n",
    "#     normalized_df['error_normalized_to_control'] = normalized_df['FITC_normalized_to_control'] * np.sqrt(\n",
    "#         (normalized_df['sem_FITC'] / normalized_df['median_FITC'])**2 + \n",
    "#         (normalized_df['sem_FITC_control'] / normalized_df['median_FITC_control'])**2\n",
    "#     )\n",
    "\n",
    "#     return normalized_df\n",
    "\n",
    "# # Apply the new normalization function to the aggregated data.\n",
    "# FITC_normalized_data = normalize_FITC_to_DMSO_control(compressed_df, control_drug='DMSO')\n"
   ]
  },
  {
   "cell_type": "code",
   "execution_count": 9,
   "id": "32ea54ca",
   "metadata": {
    "scrolled": false
   },
   "outputs": [],
   "source": [
    "# # Pivot your data to have 'cell_line' as rows and 'drug' as columns\n",
    "# pivoted_data = FITC_normalized_data.pivot(index='cell_line', columns='drug', values='FITC_normalized_to_control')\n",
    "# pivoted_error = FITC_normalized_data.pivot(index='cell_line', columns='drug', values='error_normalized_to_control')\n",
    "\n",
    "# # Define colors\n",
    "# DMSO_color = '#C20078'\n",
    "# fouru8c_color = '#FF81C0'\n",
    "# C7_color = '#7BC8F6'\n",
    "# Both_color = '#029386'\n",
    "\n",
    "# # Define the order in which to plot the drugs\n",
    "# drug_order = ['DMSO', '4u8c', 'C7', 'Both']\n",
    "\n",
    "# # Plotting setup\n",
    "# sns.set_style(\"ticks\")\n",
    "# fig, ax = plt.subplots(figsize=(7,3))\n",
    "# plt.tick_params(size=2, labelsize=7, length=2.5, pad=1)\n",
    "# width = 0.2  # Width of the bars\n",
    "\n",
    "# # Iterate through cell lines and drugs for plotting\n",
    "# for xval, cell_line in enumerate(pivoted_data.index):\n",
    "#     for drug_index, drug in enumerate(drug_order):\n",
    "#         # Check if drug is present in the column\n",
    "#         if drug in pivoted_data.columns:\n",
    "#             value = pivoted_data.at[cell_line, drug]\n",
    "#             error = pivoted_error.at[cell_line, drug]\n",
    "            \n",
    "#             # Only plot if the value is not NaN\n",
    "#             if not np.isnan(value):\n",
    "#                 # Calculate the position for each bar\n",
    "#                 position = xval - (1.5 * width) + (width * drug_index)\n",
    "\n",
    "#                 # Choose the color based on the drug\n",
    "#                 if drug == \"DMSO\":\n",
    "#                     color = DMSO_color\n",
    "#                 elif drug == \"4u8c\":\n",
    "#                     color = fouru8c_color\n",
    "#                 elif drug == \"C7\":\n",
    "#                     color = C7_color\n",
    "#                 else:  # 'Both'\n",
    "#                     color = Both_color\n",
    "\n",
    "#                 # Plot the bar and error bars\n",
    "#                 plt.bar(position, value, width, color=color, linewidth=0.25)\n",
    "#                 plt.plot([position, position], [value - error, value + error], 'k-', linewidth=0.5)\n",
    "\n",
    "# # Set x-ticks to be in the center of each group of bars\n",
    "# center_positions = np.arange(len(pivoted_data.index)) - (0.5 * width)\n",
    "# plt.xticks(center_positions, pivoted_data.index, fontsize=9, rotation=0, ha='center', rotation_mode=\"anchor\")\n",
    "\n",
    "# # Y-axis label and legend\n",
    "# plt.yticks(fontsize=8)\n",
    "# plt.ylabel('median FITC, rel. DMSO', labelpad=2, fontsize=9)\n",
    "# legend_elements = [Patch(facecolor=DMSO_color, label='DMSO'),\n",
    "#                    Patch(facecolor=fouru8c_color, label='4u8c'),\n",
    "#                    Patch(facecolor=C7_color, label='C7'),\n",
    "#                    Patch(facecolor=Both_color, label='Both')]\n",
    "# plt.legend(handles=legend_elements, fontsize=9, loc='upper right', ncol=4, frameon=False)\n",
    "\n",
    "# # Additional formatting\n",
    "# plt.axhline(y=0, linestyle='dashed', c='black', linewidth=0.5)\n",
    "# fmt = '%.1f'\n",
    "# plt.ylim(-0.1,1.4)\n",
    "# yticks = mtick.FormatStrFormatter(fmt)\n",
    "# plt.gca().yaxis.set_major_formatter(yticks)\n",
    "# plt.tight_layout()\n",
    "\n",
    "# # Save the figure as a high-quality PNG\n",
    "# plt.savefig('flow_results.png', dpi=300)"
   ]
  },
  {
   "cell_type": "markdown",
   "id": "03d6d394",
   "metadata": {},
   "source": [
    "Boot strapping"
   ]
  },
  {
   "cell_type": "code",
   "execution_count": 10,
   "id": "4e89d5b0",
   "metadata": {},
   "outputs": [],
   "source": [
    "def process_fcs_file(filepath):\n",
    "    # Ensure the file exists\n",
    "    if not os.path.exists(filepath):\n",
    "        print(\"File not found:\", filepath)\n",
    "        return None\n",
    "\n",
    "    # Read and transform the FCS data\n",
    "    fcs_data = FlowCal.io.FCSData(filepath)\n",
    "    fcs_data = FlowCal.transform.to_rfi(fcs_data)\n",
    "\n",
    "    # Extract the sample_name from the filename\n",
    "    sample_name = \"_\".join(os.path.basename(filepath).split(\"_\")[1:3])\n",
    "\n",
    "    # Add the identifier\n",
    "    identifier = np.full(shape=(fcs_data.shape[0], 1), fill_value=sample_name)\n",
    "    combined_data = np.hstack((fcs_data, identifier))\n",
    "\n",
    "    # Convert to DataFrame\n",
    "    combined_data_df = pd.DataFrame(combined_data, columns=list(fcs_data.channels) + [\"sample_name\"])\n",
    "    combined_data_df.iloc[:, :-1] = combined_data_df.iloc[:, :-1].apply(pd.to_numeric)\n",
    "\n",
    "    # Apply logicle transformation\n",
    "    combined_data_df = logicle_transform(combined_data_df, \"530_30 Blue B-A\")\n",
    "    combined_data_df = logicle_transform(combined_data_df, \"610_20 YG D-A\")\n",
    "\n",
    "    return combined_data_df\n",
    "\n",
    "def add_files_to_dict(directory):\n",
    "    files_dict = {}\n",
    "    for file in os.listdir(directory):\n",
    "        if file.endswith(\".fcs\"):  # Checking if the file is an FCS file\n",
    "            filepath = os.path.join(directory, file)\n",
    "            sample_name = \"_\".join(file.split(\"_\")[1:3])  # Extract 'sample_name' from filename\n",
    "            processed_file = process_fcs_file(filepath)\n",
    "\n",
    "            # Check if the processed file has more than 5000 rows\n",
    "            if processed_file.shape[0] > 5000:\n",
    "                files_dict[sample_name] = processed_file\n",
    "\n",
    "    return files_dict\n",
    "\n",
    "directory = 'UPR_drug_spike_expression/data/20231220 FlowJo'\n",
    "files_dictionary = add_files_to_dict(directory)\n",
    "files_dictionary = dict(sorted(files_dictionary.items(), key=lambda item: int(item[0].split('_')[1])))\n",
    "# Now files_dictionary contains only the processed data with more than 5000 rows, with codes as keys\n",
    "\n",
    "\n",
    "MetaData = pd.read_csv('UPR_drug_spike_expression/data/20231214_metadata.csv')\n",
    "\n",
    "combined_data_dict = {}\n",
    "\n",
    "for key, df in files_dictionary.items():\n",
    "    combined_data = pd.merge(df, MetaData, on=\"sample_name\")\n",
    "    combined_data = combined_data.rename(columns={\"530_30 Blue B-A\": \"FITC (a.u.)\"})\n",
    "    combined_data = combined_data.rename(columns={\"610_20 YG D-A\": \"mCherry (a.u.)\"})\n",
    "    #combined_data['Normalized (a.u.)'] = combined_data['FITC (a.u.)']-combined_data['mCherry (a.u.)']\n",
    "    combined_data_dict[key] = combined_data\n",
    "\n",
    "def filter_mycFITC_samples(combined_data_dict, label_column='secondary', label_value='mycFITC'):\n",
    "    filtered_data_dict = {}\n",
    "    for specimen, df in combined_data_dict.items():\n",
    "        filtered_df = df[df[label_column] == label_value]\n",
    "        if not filtered_df.empty:\n",
    "            filtered_data_dict[specimen] = filtered_df\n",
    "    return filtered_data_dict\n",
    "\n",
    "# Apply the filtering to your data\n",
    "labeled_data_dict = filter_mycFITC_samples(combined_data_dict)"
   ]
  },
  {
   "cell_type": "markdown",
   "id": "40b0b012",
   "metadata": {},
   "source": [
    "Step 1: Data Preparation"
   ]
  },
  {
   "cell_type": "code",
   "execution_count": 11,
   "id": "eb727916",
   "metadata": {},
   "outputs": [],
   "source": [
    "# Segregating data based on 'cell_line' and 'drug'\n",
    "data_by_group = {}\n",
    "for specimen, df in labeled_data_dict.items():\n",
    "    # Create a tuple key of cell_line and drug for each dataframe\n",
    "    key = (df['cell_line'].iloc[0], df['drug'].iloc[0])  # Assuming all rows in a df have the same cell_line and drug\n",
    "    if key not in data_by_group:\n",
    "        data_by_group[key] = []\n",
    "    # Append the dataframe to the corresponding group\n",
    "    data_by_group[key].append(df)"
   ]
  },
  {
   "cell_type": "markdown",
   "id": "b94ec495",
   "metadata": {},
   "source": [
    "Step 2: Bootstrapping Function"
   ]
  },
  {
   "cell_type": "code",
   "execution_count": 12,
   "id": "bddfe935",
   "metadata": {},
   "outputs": [],
   "source": [
    "# Function to perform bootstrapping\n",
    "def bootstrap_median(data, n_bootstrap=1000):\n",
    "    bootstrapped_medians = []\n",
    "    n = len(data)\n",
    "    for _ in range(n_bootstrap):\n",
    "        # Sample with replacement and calculate the median\n",
    "        sample = np.random.choice(data, size=n, replace=True)\n",
    "        bootstrapped_medians.append(np.median(sample))\n",
    "    return bootstrapped_medians\n",
    "\n",
    "# Setting the number of bootstrap samples\n",
    "n_bootstrap_samples = 10000  # This can be adjusted based on computational resources"
   ]
  },
  {
   "cell_type": "markdown",
   "id": "7dce1792",
   "metadata": {},
   "source": [
    "Step 3: Implement Bootstrapping"
   ]
  },
  {
   "cell_type": "code",
   "execution_count": 13,
   "id": "75a6cc1c",
   "metadata": {},
   "outputs": [],
   "source": [
    "# Applying bootstrapping to each group of data\n",
    "bootstrapped_results = {}\n",
    "for (cell_line, drug), dfs in data_by_group.items():\n",
    "    # Combine data from all replicates and focus on 'FITC (a.u.)' values\n",
    "    combined_data = pd.concat(dfs)['FITC (a.u.)']\n",
    "    # Apply the bootstrap_median function to the combined data\n",
    "    bootstrapped_results[(cell_line, drug)] = bootstrap_median(combined_data, n_bootstrap=n_bootstrap_samples)"
   ]
  },
  {
   "cell_type": "markdown",
   "id": "7767baa7",
   "metadata": {},
   "source": [
    "Step 4: Statistical Tests"
   ]
  },
  {
   "cell_type": "code",
   "execution_count": 31,
   "id": "d5540582",
   "metadata": {
    "scrolled": true
   },
   "outputs": [
    {
     "name": "stdout",
     "output_type": "stream",
     "text": [
      "Cell Line: pRH106, Drug: C7, Mann-Whitney U test p-value: 0.00e+00, u-value: 161.5\n",
      "Cell Line: pRH106, Drug: 4u8c, Mann-Whitney U test p-value: 0.00e+00, u-value: 100000000.0\n",
      "Cell Line: pRH106, Drug: Both, Mann-Whitney U test p-value: 0.00e+00, u-value: 99999907.5\n",
      "Cell Line: pRH112, Drug: C7, Mann-Whitney U test p-value: 0.00e+00, u-value: 100000000.0\n",
      "Cell Line: pRH112, Drug: 4u8c, Mann-Whitney U test p-value: 0.00e+00, u-value: 100000000.0\n",
      "Cell Line: pRH112_DD, Drug: C7, Mann-Whitney U test p-value: 0.00e+00, u-value: 100000000.0\n",
      "Cell Line: pRH112_DD, Drug: 4u8c, Mann-Whitney U test p-value: 0.00e+00, u-value: 100000000.0\n",
      "Cell Line: pRH108_DD, Drug: C7, Mann-Whitney U test p-value: 0.00e+00, u-value: 100000000.0\n",
      "Cell Line: pRH108_DD, Drug: 4u8c, Mann-Whitney U test p-value: 0.00e+00, u-value: 284.5\n",
      "Cell Line: pRH108_DD, Drug: Both, Mann-Whitney U test p-value: 0.00e+00, u-value: 79749568.5\n",
      "Cell Line: pRH108, Drug: C7, Mann-Whitney U test p-value: 0.00e+00, u-value: 556.0\n",
      "Cell Line: pRH108, Drug: 4u8c, Mann-Whitney U test p-value: 0.00e+00, u-value: 0.0\n",
      "Cell Line: pRH108, Drug: Both, Mann-Whitney U test p-value: 0.00e+00, u-value: 2651473.5\n"
     ]
    }
   ],
   "source": [
    "# Statistical comparison of drug treatments to the control (DMSO) within each cell line\n",
    "statistical_results = {}\n",
    "for cell_line in set(cell_line for cell_line, drug in bootstrapped_results.keys()):\n",
    "    control_medians = bootstrapped_results.get((cell_line, 'DMSO'), None)\n",
    "    if control_medians is not None:\n",
    "        for drug in ['C7', '4u8c', 'Both']:  # Specify the drugs for comparison\n",
    "            treatment_medians = bootstrapped_results.get((cell_line, drug), None)\n",
    "            if treatment_medians is not None:\n",
    "                # Perform Mann-Whitney U test\n",
    "                u_stat, p_value = mannwhitneyu(control_medians, treatment_medians)\n",
    "                statistical_results[(cell_line, drug)] = p_value, u_stat\n",
    "\n",
    "for (cell_line, drug), (p_value, u_stat) in statistical_results.items():\n",
    "    # Format p-value and u-value\n",
    "    formatted_p_value = f\"{p_value:.2e}\"  # Display p-value in scientific notation with 2 decimal places\n",
    "    print(f\"Cell Line: {cell_line}, Drug: {drug}, Mann-Whitney U test p-value: {formatted_p_value}, u-value: {u_stat}\")\n"
   ]
  },
  {
   "cell_type": "markdown",
   "id": "c6c057ff",
   "metadata": {},
   "source": [
    "Step 5: Visualization"
   ]
  },
  {
   "cell_type": "code",
   "execution_count": 16,
   "id": "9ffd7144",
   "metadata": {
    "scrolled": true
   },
   "outputs": [
    {
     "data": {
      "image/png": "[encoded data removed]",
      "text/plain": [
       "<Figure size 720x432 with 1 Axes>"
      ]
     },
     "metadata": {},
     "output_type": "display_data"
    },
    {
     "data": {
      "image/png": "[encoded data removed]",
      "text/plain": [
       "<Figure size 720x432 with 1 Axes>"
      ]
     },
     "metadata": {},
     "output_type": "display_data"
    },
    {
     "data": {
      "image/png": "[encoded data removed]",
      "text/plain": [
       "<Figure size 720x432 with 1 Axes>"
      ]
     },
     "metadata": {},
     "output_type": "display_data"
    },
    {
     "data": {
      "image/png": "[encoded data removed]",
      "text/plain": [
       "<Figure size 720x432 with 1 Axes>"
      ]
     },
     "metadata": {},
     "output_type": "display_data"
    },
    {
     "data": {
      "image/png": "[encoded data removed]",
      "text/plain": [
       "<Figure size 720x432 with 1 Axes>"
      ]
     },
     "metadata": {},
     "output_type": "display_data"
    },
    {
     "data": {
      "image/png": "[encoded data removed]",
      "text/plain": [
       "<Figure size 720x432 with 1 Axes>"
      ]
     },
     "metadata": {},
     "output_type": "display_data"
    }
   ],
   "source": [
    "# Setting Seaborn style\n",
    "sns.set(style=\"white\")\n",
    "\n",
    "# Preparing data for plotting\n",
    "plot_data = []\n",
    "for (cell_line, drug), medians in bootstrapped_results.items():\n",
    "    for median in medians:\n",
    "        plot_data.append({'Cell Line': cell_line, 'Drug': drug, 'Median': median})\n",
    "\n",
    "df_plot = pd.DataFrame(plot_data)\n",
    "\n",
    "# Unique cell lines\n",
    "cell_lines = sorted(set(df_plot['Cell Line']))\n",
    "\n",
    "# Loop over each cell line to create a separate plot\n",
    "for cell_line in cell_lines:\n",
    "    plt.figure(figsize=(10, 6))\n",
    "    ax = sns.boxplot(x='Drug', y='Median', data=df_plot[df_plot['Cell Line'] == cell_line])\n",
    "    plt.title(f'Cell Line: {cell_line}', pad=5)\n",
    "    plt.xlabel('Drug')\n",
    "    plt.ylabel('Median FITC (a.u.)')\n",
    "    \n",
    "    # Calculate min and max of the 'Median' values for the current cell line\n",
    "    cell_line_data = df_plot[df_plot['Cell Line'] == cell_line]['Median']\n",
    "    min_val, max_val = cell_line_data.min(), cell_line_data.max()\n",
    "    plt.ylim(min_val - 0.01, max_val + 0.01)  # Set y-axis limits\n",
    "\n",
    "    plt.xticks()  # Rotate drug labels for clarity\n",
    "\n",
    "    # Save the plot as a PNG file\n",
    "    #lt.savefig(f'{cell_line}_plot.png', bbox_inches='tight')\n",
    "    \n",
    "    plt.tight_layout()\n",
    "    plt.show()\n",
    "    \n",
    "    plt.close()\n"
   ]
  }
 ],
 "metadata": {
  "kernelspec": {
   "display_name": "Python 3 (ipykernel)",
   "language": "python",
   "name": "python3"
  },
  "language_info": {
   "codemirror_mode": {
    "name": "ipython",
    "version": 3
   },
   "file_extension": ".py",
   "mimetype": "text/x-python",
   "name": "python",
   "nbconvert_exporter": "python",
   "pygments_lexer": "ipython3",
   "version": "3.9.12"
  }
 },
 "nbformat": 4,
 "nbformat_minor": 5
}
